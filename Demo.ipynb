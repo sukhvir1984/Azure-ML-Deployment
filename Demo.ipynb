{
 "cells": [
  {
   "cell_type": "code",
   "execution_count": 1,
   "metadata": {},
   "outputs": [
    {
     "name": "stdout",
     "output_type": "stream",
     "text": [
      "c:\\users\\hp\\anaconda3\\envs\\mlserviceexp\\python.exe\n"
     ]
    }
   ],
   "source": [
    "import sys\n",
    "print(sys.executable)"
   ]
  },
  {
   "cell_type": "code",
   "execution_count": null,
   "metadata": {},
   "outputs": [],
   "source": []
  },
  {
   "cell_type": "code",
   "execution_count": 1,
   "metadata": {},
   "outputs": [],
   "source": [
    "import azure.core\n",
    "from azureml.core import Workspace, Environment,Experiment,ScriptRunConfig\n",
    "# Scriptrunconfig is used to the model which we trained in pyhton\n",
    "from azureml.core.compute import AmlCompute, ComputeTarget\n",
    "# used for Compute Clusted with the help of pyhton code"
   ]
  },
  {
   "cell_type": "code",
   "execution_count": 2,
   "metadata": {},
   "outputs": [
    {
     "name": "stderr",
     "output_type": "stream",
     "text": [
      "UserWarning: The resource group doesn't exist or was not provided. AzureML SDK is creating a resource group=sukhitestresourcegroup in location=eastus2 using subscription=053456fd-7554-43a4-b1b7-232e8b9234fa.\n"
     ]
    },
    {
     "name": "stdout",
     "output_type": "stream",
     "text": [
      "Deploying StorageAccount with name sukhitesstoragea33efb6f4.\n",
      "Deploying KeyVault with name sukhiteskeyvault00ebc773.\n",
      "Deploying AppInsights with name sukhitesinsights04fb589f.\n",
      "Deployed AppInsights with name sukhitesinsights04fb589f. Took 31.43 seconds.\n",
      "Deployed KeyVault with name sukhiteskeyvault00ebc773. Took 43.98 seconds.\n",
      "Deployed StorageAccount with name sukhitesstoragea33efb6f4. Took 48.53 seconds.\n",
      "Deploying Workspace with name sukhitestworkspace.\n",
      "Deployed Workspace with name sukhitestworkspace. Took 37.56 seconds.\n"
     ]
    }
   ],
   "source": [
    "# create workspace using Python SDK\n",
    "ws = Workspace.create(name='sukhitestworkspace',\n",
    "               subscription_id='053456fd-7554-43a4-b1b7-232e8b9234fa',\n",
    "               resource_group='sukhitestresourcegroup',\n",
    "               create_resource_group=True,\n",
    "               location='eastus2'\n",
    "               )\n",
    "#ws.write_config(' .azureml')"
   ]
  },
  {
   "cell_type": "code",
   "execution_count": 4,
   "metadata": {},
   "outputs": [],
   "source": [
    "ws.write_config('.azureml')"
   ]
  },
  {
   "cell_type": "code",
   "execution_count": 13,
   "metadata": {},
   "outputs": [
    {
     "data": {
      "text/plain": [
       "Workspace.create(name='myworkspace', subscription_id='053456fd-7554-43a4-b1b7-232e8b9234fa', resource_group='myresourcegroup')"
      ]
     },
     "execution_count": 13,
     "metadata": {},
     "output_type": "execute_result"
    }
   ],
   "source": [
    "ws.from_config()"
   ]
  },
  {
   "cell_type": "code",
   "execution_count": 35,
   "metadata": {},
   "outputs": [
    {
     "name": "stdout",
     "output_type": "stream",
     "text": [
      "\n",
      "Creating..........................................\n",
      "Running\n"
     ]
    }
   ],
   "source": [
    "############# Below code is used to create an Instance#####################\n",
    "\n",
    "### Code to create a instance on Azure\n",
    "### Compute instance name should be unique across the azure region\n",
    "\n",
    "#compute_name = \"ci{}\".format(ws._workspace_id)[:10]\n",
    "\n",
    "### Verify that instance does not exist already\n",
    "#try:\n",
    "   # instance = ComputeInstance(workspace=ws, name=compute_name)\n",
    "    print('Found existing instance, use it.')\n",
    "#except ComputeTargetException:\n",
    "   # compute_config = ComputeInstance.provisioning_configuration(\n",
    "       # vm_size='STANDARD_D3_V2',\n",
    "       # ssh_public_access=False,\n",
    "        # #vnet_resourcegroup_name='<my-resource-group>',\n",
    "        ## vnet_name='<my-vnet-name>',\n",
    "        ## subnet_name='default',\n",
    "        ## admin_user_ssh_public_key='<my-sshkey>'\n",
    "    )\n",
    "    #instance = ComputeInstance.create(ws, compute_name, compute_config)\n",
    "    #instance.wait_for_completion(show_output=True)"
   ]
  },
  {
   "cell_type": "code",
   "execution_count": 45,
   "metadata": {},
   "outputs": [],
   "source": [
    "from azureml.core.compute import ComputeTarget, AmlCompute\n",
    "from azureml.core.compute_target import ComputeTargetException\n",
    "\n",
    "   # Choose a name for your CPU cluster\n",
    "cpu_cluster_name = \"sukhicpu-cluster\"\n",
    "\n",
    "   # Verify that cluster does not exist already\n",
    "try:\n",
    "    cpu_cluster = ComputeTarget(workspace=ws, name=cpu_cluster_name)\n",
    "    print('Found existing cluster, use it.')\n",
    "except ComputeTargetException:\n",
    "    compute_config = AmlCompute.provisioning_configuration(vm_size='STANDARD_D2_V2',\n",
    "                                                              max_nodes=4)\n",
    "    cpu_cluster = ComputeTarget.create(ws, cpu_cluster_name, compute_config)\n",
    " \n"
   ]
  },
  {
   "cell_type": "code",
   "execution_count": null,
   "metadata": {},
   "outputs": [],
   "source": [
    "## to delete the workspace \n",
    "ws.delete()"
   ]
  },
  {
   "cell_type": "code",
   "execution_count": null,
   "metadata": {},
   "outputs": [],
   "source": []
  },
  {
   "cell_type": "code",
   "execution_count": null,
   "metadata": {},
   "outputs": [
    {
     "name": "stdout",
     "output_type": "stream",
     "text": [
      "Performing interactive authentication. Please follow the instructions on the terminal.\n"
     ]
    },
    {
     "name": "stderr",
     "output_type": "stream",
     "text": [
      "Note, we have launched a browser for you to login. For old experience with device code, use \"az login --use-device-code\"\n"
     ]
    }
   ],
   "source": [
    "from azureml.core.compute import ComputeTarget, AmlCompute\n",
    "#from azureml.core.compute_target import ComputeTargetException\n",
    "\n",
    "   # Verify that cluster does not exist already\n",
    "try:\n",
    "    cpu_cluster = ComputeTarget(ws,'sukhicpu-cluster2')\n",
    "    print('Found existing cluster, use it.')\n",
    "except:\n",
    "    compute_config = AmlCompute.provisioning_configuration(vm_size='STANDARD_D3_V2',\n",
    "                                                              min_nodes=0,max_nodes=4)\n",
    "    cpu_cluster = ComputeTarget.create(ws, 'sukhicpu-cluster2', compute_config)"
   ]
  },
  {
   "cell_type": "code",
   "execution_count": null,
   "metadata": {},
   "outputs": [],
   "source": []
  },
  {
   "cell_type": "code",
   "execution_count": 46,
   "metadata": {},
   "outputs": [
    {
     "data": {
      "text/plain": [
       "{'sukhicpu-cluster': AmlCompute(workspace=Workspace.create(name='myworkspace', subscription_id='053456fd-7554-43a4-b1b7-232e8b9234fa', resource_group='myresourcegroup'), name=sukhicpu-cluster, id=/subscriptions/053456fd-7554-43a4-b1b7-232e8b9234fa/resourceGroups/myresourcegroup/providers/Microsoft.MachineLearningServices/workspaces/myworkspace/computes/sukhicpu-cluster, type=AmlCompute, provisioning_state=Succeeded, location=eastus2, tags={})}"
      ]
     },
     "execution_count": 46,
     "metadata": {},
     "output_type": "execute_result"
    }
   ],
   "source": [
    "# getting information of your compute \n",
    "ws.compute_targets"
   ]
  },
  {
   "cell_type": "code",
   "execution_count": 47,
   "metadata": {},
   "outputs": [
    {
     "data": {
      "text/plain": [
       "{'workspaceblobstore': {\n",
       "   \"name\": \"workspaceblobstore\",\n",
       "   \"container_name\": \"azureml-blobstore-59810b1c-5110-4a93-966b-c51f32168784\",\n",
       "   \"account_name\": \"myworkspstorageb65ffed6a\",\n",
       "   \"protocol\": \"https\",\n",
       "   \"endpoint\": \"core.windows.net\"\n",
       " }, 'workspacefilestore': {\n",
       "   \"name\": \"workspacefilestore\",\n",
       "   \"container_name\": \"azureml-filestore-59810b1c-5110-4a93-966b-c51f32168784\",\n",
       "   \"account_name\": \"myworkspstorageb65ffed6a\",\n",
       "   \"protocol\": \"https\",\n",
       "   \"endpoint\": \"core.windows.net\"\n",
       " }}"
      ]
     },
     "execution_count": 47,
     "metadata": {},
     "output_type": "execute_result"
    }
   ],
   "source": [
    "# Data Storage information \n",
    "ws.datastores"
   ]
  },
  {
   "cell_type": "code",
   "execution_count": 48,
   "metadata": {},
   "outputs": [],
   "source": [
    "## Create an experinment \n",
    "exp= Experiment(ws,'demoexp')"
   ]
  },
  {
   "cell_type": "code",
   "execution_count": 61,
   "metadata": {},
   "outputs": [
    {
     "ename": "TypeError",
     "evalue": "__init__() got an unexpected keyword argument 'ComputeTargetException'",
     "output_type": "error",
     "traceback": [
      "\u001b[1;31m---------------------------------------------------------------------------\u001b[0m",
      "\u001b[1;31mTypeError\u001b[0m                                 Traceback (most recent call last)",
      "\u001b[1;32m<ipython-input-61-6b39da13fb23>\u001b[0m in \u001b[0;36m<module>\u001b[1;34m\u001b[0m\n\u001b[0;32m      1\u001b[0m \u001b[1;31m# This is for training file to run as docker image on Azure and about where it is in local machine\u001b[0m\u001b[1;33m\u001b[0m\u001b[1;33m\u001b[0m\u001b[1;33m\u001b[0m\u001b[0m\n\u001b[1;32m----> 2\u001b[1;33m \u001b[0mpythonconfig\u001b[0m\u001b[1;33m=\u001b[0m\u001b[0mScriptRunConfig\u001b[0m\u001b[1;33m(\u001b[0m\u001b[0msource_directory\u001b[0m\u001b[1;33m=\u001b[0m\u001b[1;34m\"./\"\u001b[0m\u001b[1;33m,\u001b[0m \u001b[0mscript\u001b[0m\u001b[1;33m=\u001b[0m\u001b[1;34m\"train.py\"\u001b[0m\u001b[1;33m,\u001b[0m \u001b[0mComputeTargetException\u001b[0m\u001b[1;33m=\u001b[0m \u001b[1;34m'sukhicpu-cluster'\u001b[0m\u001b[1;33m)\u001b[0m\u001b[1;33m\u001b[0m\u001b[1;33m\u001b[0m\u001b[0m\n\u001b[0m",
      "\u001b[1;32m~\\Anaconda3\\lib\\site-packages\\azureml\\core\\_experiment_method.py\u001b[0m in \u001b[0;36mwrapper\u001b[1;34m(self, *args, **kwargs)\u001b[0m\n\u001b[0;32m     91\u001b[0m             \"\"\"\n\u001b[0;32m     92\u001b[0m             \u001b[0mExperimentSubmitRegistrar\u001b[0m\u001b[1;33m.\u001b[0m\u001b[0mregister_submit_function\u001b[0m\u001b[1;33m(\u001b[0m\u001b[0mself\u001b[0m\u001b[1;33m.\u001b[0m\u001b[0m__class__\u001b[0m\u001b[1;33m,\u001b[0m \u001b[0msubmit_function\u001b[0m\u001b[1;33m)\u001b[0m\u001b[1;33m\u001b[0m\u001b[1;33m\u001b[0m\u001b[0m\n\u001b[1;32m---> 93\u001b[1;33m             \u001b[1;32mreturn\u001b[0m \u001b[0minit_func\u001b[0m\u001b[1;33m(\u001b[0m\u001b[0mself\u001b[0m\u001b[1;33m,\u001b[0m \u001b[1;33m*\u001b[0m\u001b[0margs\u001b[0m\u001b[1;33m,\u001b[0m \u001b[1;33m**\u001b[0m\u001b[0mkwargs\u001b[0m\u001b[1;33m)\u001b[0m\u001b[1;33m\u001b[0m\u001b[1;33m\u001b[0m\u001b[0m\n\u001b[0m\u001b[0;32m     94\u001b[0m         \u001b[1;32mreturn\u001b[0m \u001b[0mwrapper\u001b[0m\u001b[1;33m\u001b[0m\u001b[1;33m\u001b[0m\u001b[0m\n\u001b[0;32m     95\u001b[0m     \u001b[1;32mreturn\u001b[0m \u001b[0mreal_decorator\u001b[0m\u001b[1;33m\u001b[0m\u001b[1;33m\u001b[0m\u001b[0m\n",
      "\u001b[1;31mTypeError\u001b[0m: __init__() got an unexpected keyword argument 'ComputeTargetException'"
     ]
    }
   ],
   "source": [
    "# This is for training file to run as docker image on Azure and about where it is in local machine\n",
    "pythonconfig=ScriptRunConfig(source_directory=\"./\", script=\"train.py\", ComputeTargetException= 'sukhicpu-cluster')\n"
   ]
  },
  {
   "cell_type": "code",
   "execution_count": null,
   "metadata": {},
   "outputs": [],
   "source": [
    " "
   ]
  }
 ],
 "metadata": {
  "kernelspec": {
   "display_name": "Python 3",
   "language": "python",
   "name": "python3"
  },
  "language_info": {
   "codemirror_mode": {
    "name": "ipython",
    "version": 3
   },
   "file_extension": ".py",
   "mimetype": "text/x-python",
   "name": "python",
   "nbconvert_exporter": "python",
   "pygments_lexer": "ipython3",
   "version": "3.8.10"
  }
 },
 "nbformat": 4,
 "nbformat_minor": 2
}
